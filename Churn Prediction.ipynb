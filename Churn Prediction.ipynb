{
 "cells": [
  {
   "cell_type": "code",
   "execution_count": 2,
   "id": "32a760f5",
   "metadata": {},
   "outputs": [],
   "source": [
    "# Importing the libraries \n",
    "import numpy as np \n",
    "import matplotlib.pyplot as plt \n",
    "import pandas as pd \n",
    "\n",
    "# Importing the database \n",
    "dataset = pd.read_csv('E:\\\\datasets\\\\Churn_Modelling.csv')\n"
   ]
  },
  {
   "cell_type": "code",
   "execution_count": 3,
   "id": "7241ffb3",
   "metadata": {},
   "outputs": [
    {
     "data": {
      "text/plain": [
       "array([[619, 'France', 'Female', ..., 1, 1, 101348.88],\n",
       "       [608, 'Spain', 'Female', ..., 0, 1, 112542.58],\n",
       "       [502, 'France', 'Female', ..., 1, 0, 113931.57],\n",
       "       ...,\n",
       "       [709, 'France', 'Female', ..., 0, 1, 42085.58],\n",
       "       [772, 'Germany', 'Male', ..., 1, 0, 92888.52],\n",
       "       [792, 'France', 'Female', ..., 1, 0, 38190.78]], dtype=object)"
      ]
     },
     "execution_count": 3,
     "metadata": {},
     "output_type": "execute_result"
    }
   ],
   "source": [
    "X = dataset.iloc[:, 3:13].values \n",
    "Y = dataset.iloc[:, 13].values \n",
    "X\n"
   ]
  },
  {
   "cell_type": "code",
   "execution_count": 4,
   "id": "9da9d0c6",
   "metadata": {},
   "outputs": [
    {
     "data": {
      "text/plain": [
       "array([1, 0, 1, ..., 1, 1, 0], dtype=int64)"
      ]
     },
     "execution_count": 4,
     "metadata": {},
     "output_type": "execute_result"
    }
   ],
   "source": [
    "Y"
   ]
  },
  {
   "cell_type": "code",
   "execution_count": 13,
   "id": "c0402343",
   "metadata": {},
   "outputs": [
    {
     "data": {
      "text/plain": [
       "array([[0.0000000e+00, 0.0000000e+00, 2.2800000e+02, ..., 1.0000000e+00,\n",
       "        1.0000000e+00, 1.0134888e+05],\n",
       "       [1.0000000e+00, 0.0000000e+00, 2.1700000e+02, ..., 0.0000000e+00,\n",
       "        1.0000000e+00, 1.1254258e+05],\n",
       "       [0.0000000e+00, 0.0000000e+00, 1.1100000e+02, ..., 1.0000000e+00,\n",
       "        0.0000000e+00, 1.1393157e+05],\n",
       "       ...,\n",
       "       [0.0000000e+00, 0.0000000e+00, 3.1800000e+02, ..., 0.0000000e+00,\n",
       "        1.0000000e+00, 4.2085580e+04],\n",
       "       [0.0000000e+00, 1.0000000e+00, 3.8100000e+02, ..., 1.0000000e+00,\n",
       "        0.0000000e+00, 9.2888520e+04],\n",
       "       [0.0000000e+00, 0.0000000e+00, 4.0100000e+02, ..., 1.0000000e+00,\n",
       "        0.0000000e+00, 3.8190780e+04]])"
      ]
     },
     "execution_count": 13,
     "metadata": {},
     "output_type": "execute_result"
    }
   ],
   "source": [
    "from sklearn.compose import ColumnTransformer\n",
    "from sklearn.preprocessing import LabelEncoder,OneHotEncoder \n",
    "labelencoder_X_1=LabelEncoder() \n",
    "X[:,1] = labelencoder_X_1.fit_transform(X[:,1]) \n",
    "labelencoder_X_2=LabelEncoder() \n",
    "X[:, 2] = labelencoder_X_2.fit_transform(X[:, 2]) \n",
    "columnTransformer = ColumnTransformer([('encoder', OneHotEncoder(), [1])], remainder = 'passthrough')\n",
    "X = np.array(columnTransformer.fit_transform(X), dtype = np.float64)\n",
    "X = X[:, 1:]\n",
    "X"
   ]
  },
  {
   "cell_type": "code",
   "execution_count": 15,
   "id": "bad23e3e",
   "metadata": {},
   "outputs": [],
   "source": [
    "#Splitting the dataset into the Training set and the Test Set \n",
    "from sklearn.model_selection import train_test_split \n",
    "X_train, X_test, y_train, y_test = train_test_split(X, Y, test_size = 0.2)\n",
    "\n"
   ]
  },
  {
   "cell_type": "code",
   "execution_count": 17,
   "id": "160022ce",
   "metadata": {},
   "outputs": [],
   "source": [
    "from sklearn.preprocessing import StandardScaler \n",
    "sc = StandardScaler() \n",
    "X_train = sc.fit_transform(X_train) \n",
    "X_test = sc.transform(X_test)\n"
   ]
  },
  {
   "cell_type": "code",
   "execution_count": 18,
   "id": "6eb3470b",
   "metadata": {},
   "outputs": [],
   "source": [
    "# Importing the Keras libraries and packages \n",
    "import keras \n",
    "from keras.models import Sequential \n",
    "from keras.layers import Dense\n"
   ]
  },
  {
   "cell_type": "code",
   "execution_count": 19,
   "id": "81f664d2",
   "metadata": {},
   "outputs": [],
   "source": [
    "#Initializing Neural Network \n",
    "classifier = Sequential()\n"
   ]
  },
  {
   "cell_type": "code",
   "execution_count": 20,
   "id": "ffa0c74f",
   "metadata": {},
   "outputs": [],
   "source": [
    "classifier.add(Dense(units = 6, kernel_initializer = 'uniform', \n",
    "activation = 'relu', input_dim = 11))\n"
   ]
  },
  {
   "cell_type": "code",
   "execution_count": 22,
   "id": "cdae0f60",
   "metadata": {},
   "outputs": [],
   "source": [
    "classifier.add(Dense(units = 6, kernel_initializer = 'uniform', \n",
    "activation = 'relu'))\n",
    "\n",
    "#Execute the following line of code to add the output layer:\n",
    "classifier.add(Dense(units = 1, kernel_initializer = 'uniform', \n",
    "activation = 'sigmoid'))\n"
   ]
  },
  {
   "cell_type": "code",
   "execution_count": 23,
   "id": "be252206",
   "metadata": {},
   "outputs": [],
   "source": [
    "# Compiling Neural Network \n",
    "classifier.compile(optimizer = 'adam', loss = 'binary_crossentropy', metrics = ['accuracy'])\n"
   ]
  },
  {
   "cell_type": "code",
   "execution_count": 24,
   "id": "13c47411",
   "metadata": {},
   "outputs": [
    {
     "name": "stdout",
     "output_type": "stream",
     "text": [
      "Epoch 1/50\n",
      "800/800 [==============================] - 2s 969us/step - loss: 0.4880 - accuracy: 0.7983\n",
      "Epoch 2/50\n",
      "800/800 [==============================] - 1s 936us/step - loss: 0.4242 - accuracy: 0.7985\n",
      "Epoch 3/50\n",
      "800/800 [==============================] - 1s 1ms/step - loss: 0.4175 - accuracy: 0.7985\n",
      "Epoch 4/50\n",
      "800/800 [==============================] - 1s 1ms/step - loss: 0.4133 - accuracy: 0.8250\n",
      "Epoch 5/50\n",
      "800/800 [==============================] - 1s 1ms/step - loss: 0.4107 - accuracy: 0.8313\n",
      "Epoch 6/50\n",
      "800/800 [==============================] - 1s 916us/step - loss: 0.4089 - accuracy: 0.8320\n",
      "Epoch 7/50\n",
      "800/800 [==============================] - 1s 907us/step - loss: 0.4074 - accuracy: 0.8330\n",
      "Epoch 8/50\n",
      "800/800 [==============================] - 1s 907us/step - loss: 0.4062 - accuracy: 0.8356\n",
      "Epoch 9/50\n",
      "800/800 [==============================] - 1s 861us/step - loss: 0.4046 - accuracy: 0.8355\n",
      "Epoch 10/50\n",
      "800/800 [==============================] - 1s 918us/step - loss: 0.4023 - accuracy: 0.8365\n",
      "Epoch 11/50\n",
      "800/800 [==============================] - 1s 874us/step - loss: 0.3999 - accuracy: 0.8379\n",
      "Epoch 12/50\n",
      "800/800 [==============================] - 1s 868us/step - loss: 0.3978 - accuracy: 0.8381\n",
      "Epoch 13/50\n",
      "800/800 [==============================] - 1s 934us/step - loss: 0.3963 - accuracy: 0.83720s - loss: 0.3962 - accuracy: \n",
      "Epoch 14/50\n",
      "800/800 [==============================] - 1s 1ms/step - loss: 0.3953 - accuracy: 0.8396\n",
      "Epoch 15/50\n",
      "800/800 [==============================] - 1s 919us/step - loss: 0.3942 - accuracy: 0.8388\n",
      "Epoch 16/50\n",
      "800/800 [==============================] - 1s 1ms/step - loss: 0.3932 - accuracy: 0.8401\n",
      "Epoch 17/50\n",
      "800/800 [==============================] - 1s 886us/step - loss: 0.3930 - accuracy: 0.8393\n",
      "Epoch 18/50\n",
      "800/800 [==============================] - 1s 956us/step - loss: 0.3926 - accuracy: 0.8388\n",
      "Epoch 19/50\n",
      "800/800 [==============================] - 1s 1ms/step - loss: 0.3924 - accuracy: 0.8388\n",
      "Epoch 20/50\n",
      "800/800 [==============================] - 1s 1ms/step - loss: 0.3919 - accuracy: 0.8399\n",
      "Epoch 21/50\n",
      "800/800 [==============================] - 1s 1ms/step - loss: 0.3914 - accuracy: 0.8400\n",
      "Epoch 22/50\n",
      "800/800 [==============================] - 1s 1ms/step - loss: 0.3908 - accuracy: 0.8396\n",
      "Epoch 23/50\n",
      "800/800 [==============================] - 1s 1ms/step - loss: 0.3907 - accuracy: 0.8411: 0s - loss: 0.3912 - accuracy: 0.84\n",
      "Epoch 24/50\n",
      "800/800 [==============================] - 1s 1ms/step - loss: 0.3906 - accuracy: 0.8403\n",
      "Epoch 25/50\n",
      "800/800 [==============================] - 1s 993us/step - loss: 0.3903 - accuracy: 0.8394\n",
      "Epoch 26/50\n",
      "800/800 [==============================] - 1s 1ms/step - loss: 0.3898 - accuracy: 0.8397\n",
      "Epoch 27/50\n",
      "800/800 [==============================] - 1s 976us/step - loss: 0.3903 - accuracy: 0.8397\n",
      "Epoch 28/50\n",
      "800/800 [==============================] - 1s 973us/step - loss: 0.3900 - accuracy: 0.8404\n",
      "Epoch 29/50\n",
      "800/800 [==============================] - 1s 1ms/step - loss: 0.3900 - accuracy: 0.8403\n",
      "Epoch 30/50\n",
      "800/800 [==============================] - 1s 1ms/step - loss: 0.3902 - accuracy: 0.8394\n",
      "Epoch 31/50\n",
      "800/800 [==============================] - 1s 992us/step - loss: 0.3895 - accuracy: 0.8396\n",
      "Epoch 32/50\n",
      "800/800 [==============================] - 1s 1ms/step - loss: 0.3897 - accuracy: 0.8422\n",
      "Epoch 33/50\n",
      "800/800 [==============================] - 1s 1ms/step - loss: 0.3893 - accuracy: 0.8416\n",
      "Epoch 34/50\n",
      "800/800 [==============================] - 1s 1ms/step - loss: 0.3895 - accuracy: 0.8405\n",
      "Epoch 35/50\n",
      "800/800 [==============================] - 1s 1ms/step - loss: 0.3892 - accuracy: 0.8414\n",
      "Epoch 36/50\n",
      "800/800 [==============================] - 1s 1ms/step - loss: 0.3893 - accuracy: 0.8405\n",
      "Epoch 37/50\n",
      "800/800 [==============================] - 1s 1ms/step - loss: 0.3894 - accuracy: 0.8403\n",
      "Epoch 38/50\n",
      "800/800 [==============================] - 1s 1ms/step - loss: 0.3888 - accuracy: 0.8414\n",
      "Epoch 39/50\n",
      "800/800 [==============================] - 1s 974us/step - loss: 0.3891 - accuracy: 0.8406\n",
      "Epoch 40/50\n",
      "800/800 [==============================] - 1s 1ms/step - loss: 0.3892 - accuracy: 0.8406\n",
      "Epoch 41/50\n",
      "800/800 [==============================] - 1s 1ms/step - loss: 0.3892 - accuracy: 0.8413\n",
      "Epoch 42/50\n",
      "800/800 [==============================] - 1s 1ms/step - loss: 0.3890 - accuracy: 0.8429\n",
      "Epoch 43/50\n",
      "800/800 [==============================] - 1s 1ms/step - loss: 0.3892 - accuracy: 0.8407\n",
      "Epoch 44/50\n",
      "800/800 [==============================] - 1s 997us/step - loss: 0.3893 - accuracy: 0.8426\n",
      "Epoch 45/50\n",
      "800/800 [==============================] - 1s 1ms/step - loss: 0.3887 - accuracy: 0.8416\n",
      "Epoch 46/50\n",
      "800/800 [==============================] - 1s 1ms/step - loss: 0.3884 - accuracy: 0.8422\n",
      "Epoch 47/50\n",
      "800/800 [==============================] - 1s 1ms/step - loss: 0.3889 - accuracy: 0.8420\n",
      "Epoch 48/50\n",
      "800/800 [==============================] - 1s 1ms/step - loss: 0.3891 - accuracy: 0.8404\n",
      "Epoch 49/50\n",
      "800/800 [==============================] - 1s 1ms/step - loss: 0.3887 - accuracy: 0.8415\n",
      "Epoch 50/50\n",
      "800/800 [==============================] - 1s 1ms/step - loss: 0.3888 - accuracy: 0.8405\n"
     ]
    },
    {
     "data": {
      "text/plain": [
       "<keras.callbacks.History at 0x18edbe04670>"
      ]
     },
     "execution_count": 24,
     "metadata": {},
     "output_type": "execute_result"
    }
   ],
   "source": [
    "classifier.fit(X_train, y_train, batch_size = 10, epochs = 50)\n"
   ]
  },
  {
   "cell_type": "code",
   "execution_count": 25,
   "id": "f967d8df",
   "metadata": {},
   "outputs": [],
   "source": [
    "# Predicting the Test set results \n",
    "y_pred = classifier.predict(X_test) \n",
    "y_pred = (y_pred > 0.5)\n",
    "\n",
    "new_prediction = classifier.predict(sc.transform \n",
    "(np.array([[0.0, 0, 500, 1, 40, 3, 50000, 2, 1, 1, 40000]])))\n",
    "new_prediction = (new_prediction > 0.5)\n"
   ]
  },
  {
   "cell_type": "code",
   "execution_count": 26,
   "id": "68326ece",
   "metadata": {},
   "outputs": [
    {
     "name": "stdout",
     "output_type": "stream",
     "text": [
      "[[1523   52]\n",
      " [ 288  137]]\n"
     ]
    }
   ],
   "source": [
    "from sklearn.metrics import confusion_matrix \n",
    "cm = confusion_matrix(y_test, y_pred) \n",
    "print (cm)\n"
   ]
  },
  {
   "cell_type": "code",
   "execution_count": null,
   "id": "e4447317",
   "metadata": {},
   "outputs": [],
   "source": []
  }
 ],
 "metadata": {
  "kernelspec": {
   "display_name": "Python 3 (ipykernel)",
   "language": "python",
   "name": "python3"
  },
  "language_info": {
   "codemirror_mode": {
    "name": "ipython",
    "version": 3
   },
   "file_extension": ".py",
   "mimetype": "text/x-python",
   "name": "python",
   "nbconvert_exporter": "python",
   "pygments_lexer": "ipython3",
   "version": "3.9.7"
  }
 },
 "nbformat": 4,
 "nbformat_minor": 5
}
